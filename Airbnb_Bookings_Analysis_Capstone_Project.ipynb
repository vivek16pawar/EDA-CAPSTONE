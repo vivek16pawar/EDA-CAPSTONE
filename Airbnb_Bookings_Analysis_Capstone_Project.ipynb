{
  "nbformat": 4,
  "nbformat_minor": 0,
  "metadata": {
    "kernelspec": {
      "display_name": "Python 3",
      "language": "python",
      "name": "python3"
    },
    "language_info": {
      "codemirror_mode": {
        "name": "ipython",
        "version": 3
      },
      "file_extension": ".py",
      "mimetype": "text/x-python",
      "name": "python",
      "nbconvert_exporter": "python",
      "pygments_lexer": "ipython3",
      "version": "3.6.6"
    },
    "colab": {
      "name": "Airbnb Bookings Analysis - Capstone Project.ipynb",
      "provenance": [],
      "include_colab_link": true
    }
  },
  "cells": [
    {
      "cell_type": "markdown",
      "metadata": {
        "id": "view-in-github",
        "colab_type": "text"
      },
      "source": [
        "<a href=\"https://colab.research.google.com/github/vivek16pawar/EDA-CAPSTONE/blob/main/Airbnb_Bookings_Analysis_Capstone_Project.ipynb\" target=\"_parent\"><img src=\"https://colab.research.google.com/assets/colab-badge.svg\" alt=\"Open In Colab\"/></a>"
      ]
    },
    {
      "cell_type": "markdown",
      "source": [
        "#                                 EDA OF AIR BNB"
      ],
      "metadata": {
        "id": "qfn9U5SEN9Zl"
      }
    },
    {
      "cell_type": "markdown",
      "source": [
        " Before deep-diving straight into the problem solution, we need to create a roadmap which we will be referring to throughout this exploratory data analysis.\n",
        "\n",
        " Air Bnb offers you someone’s home as a place to stay instead of a hotel\n",
        "\n",
        " The objective of this project is to deliver insights to understand host,area,pricing and customer choise for booking. Tracking the performance of your Airbnb listing is just as important as attracting new guests and increasing your bookings. It’s a quantifiable way of keeping an eye on your financial situation and overcoming key issues.Analysing this data will help to manage the social media promotional campaigns.This dataset contains details of different host in NYC and reviews from different users.\n",
        " Discussion of Google play store dataset will involve various steps such as\n",
        " 1. Loading the data into the data frame\n",
        " 2. Cleaning the data\n",
        " 3. Extracting statistics from the dataset\n",
        " 4. Exploratory analysis and visualizations\n",
        " 5. Questions that can be asked from the dataset\n",
        " 6. Conclusion"
      ],
      "metadata": {
        "id": "CvhSOyLGOwnT"
      }
    },
    {
      "cell_type": "code",
      "source": [
        "#Importing the library\n",
        "import pandas as pd\n",
        "import numpy as np\n",
        "import matplotlib.pyplot as plt\n",
        "import seaborn as  sns"
      ],
      "metadata": {
        "id": "iJRBxIiJLm22"
      },
      "execution_count": null,
      "outputs": []
    },
    {
      "cell_type": "code",
      "source": [
        "#Connecting to google drive\n",
        "\n",
        "from google.colab import drive\n",
        "drive.mount('/content/drive')"
      ],
      "metadata": {
        "colab": {
          "base_uri": "https://localhost:8080/"
        },
        "id": "JaOOO5RVI4D7",
        "outputId": "5c750328-908a-4e05-88d2-fe111f8ac16f"
      },
      "execution_count": null,
      "outputs": [
        {
          "output_type": "stream",
          "name": "stdout",
          "text": [
            "Mounted at /content/drive\n"
          ]
        }
      ]
    },
    {
      "cell_type": "code",
      "metadata": {
        "id": "dByMsuzT8Tnw"
      },
      "source": [
        "#Reading the CSV file and getting data onboard\n",
        "file_path = '/content/drive/MyDrive/Module 1/EDA CAPSTON/Airbnb NYC 2019.csv'"
      ],
      "execution_count": null,
      "outputs": []
    },
    {
      "cell_type": "code",
      "source": [
        "#Defining the dataframe\n",
        "df = pd.read_csv(file_path)"
      ],
      "metadata": {
        "id": "ksZerha6LOxY"
      },
      "execution_count": null,
      "outputs": []
    },
    {
      "cell_type": "code",
      "source": [
        "df.info()"
      ],
      "metadata": {
        "colab": {
          "base_uri": "https://localhost:8080/"
        },
        "id": "sdi4N1_OMxTt",
        "outputId": "8a5a2f2a-2345-4439-ad15-a440e3f5d38d"
      },
      "execution_count": null,
      "outputs": [
        {
          "output_type": "stream",
          "name": "stdout",
          "text": [
            "<class 'pandas.core.frame.DataFrame'>\n",
            "RangeIndex: 48895 entries, 0 to 48894\n",
            "Data columns (total 16 columns):\n",
            " #   Column                          Non-Null Count  Dtype  \n",
            "---  ------                          --------------  -----  \n",
            " 0   id                              48895 non-null  int64  \n",
            " 1   name                            48879 non-null  object \n",
            " 2   host_id                         48895 non-null  int64  \n",
            " 3   host_name                       48874 non-null  object \n",
            " 4   neighbourhood_group             48895 non-null  object \n",
            " 5   neighbourhood                   48895 non-null  object \n",
            " 6   latitude                        48895 non-null  float64\n",
            " 7   longitude                       48895 non-null  float64\n",
            " 8   room_type                       48895 non-null  object \n",
            " 9   price                           48895 non-null  int64  \n",
            " 10  minimum_nights                  48895 non-null  int64  \n",
            " 11  number_of_reviews               48895 non-null  int64  \n",
            " 12  last_review                     38843 non-null  object \n",
            " 13  reviews_per_month               38843 non-null  float64\n",
            " 14  calculated_host_listings_count  48895 non-null  int64  \n",
            " 15  availability_365                48895 non-null  int64  \n",
            "dtypes: float64(3), int64(7), object(6)\n",
            "memory usage: 6.0+ MB\n"
          ]
        }
      ]
    }
  ]
}